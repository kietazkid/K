{
  "cells": [
    {
      "cell_type": "markdown",
      "metadata": {
        "id": "view-in-github",
        "colab_type": "text"
      },
      "source": [
        "<a href=\"https://colab.research.google.com/github/kietazkid/K/blob/main/10_Disk.ipynb\" target=\"_parent\"><img src=\"https://colab.research.google.com/assets/colab-badge.svg\" alt=\"Open In Colab\"/></a>"
      ]
    },
    {
      "cell_type": "code",
      "execution_count": null,
      "metadata": {
        "id": "OayUaokF6_u1"
      },
      "outputs": [],
      "source": [
        "#Khai báo thư viện \n",
        "import matplotlib.pyplot as plt\n",
        "import numpy as np\n",
        "import pandas as pd\n",
        "import tensorflow as tf\n",
        "from keras.preprocessing.image import ImageDataGenerator\n",
        "from keras.utils import to_categorical, load_img, img_to_array"
      ]
    },
    {
      "cell_type": "code",
      "execution_count": null,
      "metadata": {
        "colab": {
          "base_uri": "https://localhost:8080/"
        },
        "id": "_ZXIv0WCKtTk",
        "outputId": "839b218c-4ed0-4be4-c8ce-bfd94efae114"
      },
      "outputs": [
        {
          "name": "stdout",
          "output_type": "stream",
          "text": [
            "Found 170 images belonging to 10 classes.\n"
          ]
        }
      ],
      "source": [
        "#Preprocessing để Training \n",
        "# Load ảnh, chia loại, định lại cỡ ảnh 30x40, rescale ảnh và định dạng ảnh về binary\n",
        "train_datagen = ImageDataGenerator(rescale = 1./255,\n",
        "                                    shear_range = 0.2,\n",
        "                                    zoom_range = 0.2,\n",
        "                                    horizontal_flip = True\n",
        "                                  )\n",
        "train_datagen = ImageDataGenerator(rescale = 1./255)\n",
        "training_set = train_datagen.flow_from_directory('/content/drive/MyDrive/10_disk/Training', \n",
        "                                                 target_size = (30,40), \n",
        "                                                 batch_size = 32, \n",
        "                                                 class_mode = 'categorical')"
      ]
    },
    {
      "cell_type": "code",
      "execution_count": null,
      "metadata": {
        "colab": {
          "base_uri": "https://localhost:8080/"
        },
        "id": "sXBVmmW9K0-E",
        "outputId": "4923e050-4bbc-49a6-a449-613dd03259dd"
      },
      "outputs": [
        {
          "name": "stdout",
          "output_type": "stream",
          "text": [
            "Found 33 images belonging to 10 classes.\n"
          ]
        }
      ],
      "source": [
        "# Load ảnh, chia loại, định lại cỡ ảnh 30x40, rescale ảnh và định dạng ảnh về binary\n",
        "test_datagen = ImageDataGenerator(rescale = 1./255,\n",
        "                                    shear_range = 0.2,\n",
        "                                    zoom_range = 0.2,\n",
        "                                    horizontal_flip = True\n",
        "                                  )\n",
        "test_set = test_datagen.flow_from_directory('/content/drive/MyDrive/10_disk/Test', \n",
        "                                                \n",
        "                                                 target_size = (30,40), \n",
        "                                                 batch_size = 32, \n",
        "                                                class_mode = 'categorical')"
      ]
    },
    {
      "cell_type": "code",
      "execution_count": null,
      "metadata": {
        "colab": {
          "base_uri": "https://localhost:8080/"
        },
        "id": "SE0rbW3eLMDr",
        "outputId": "c93b1819-2e61-4770-f69a-ee6f82989f17"
      },
      "outputs": [
        {
          "data": {
            "text/plain": [
              "{'banhmi': 0,\n",
              " 'banhxeo': 1,\n",
              " 'che': 2,\n",
              " 'comtam': 3,\n",
              " 'duasap': 4,\n",
              " 'goicuon': 5,\n",
              " 'miquang': 6,\n",
              " 'pate': 7,\n",
              " 'pho': 8,\n",
              " 'xoi': 9}"
            ]
          },
          "execution_count": 5,
          "metadata": {},
          "output_type": "execute_result"
        }
      ],
      "source": [
        "\n",
        "training_set.class_indices"
      ]
    },
    {
      "cell_type": "code",
      "execution_count": null,
      "metadata": {
        "colab": {
          "base_uri": "https://localhost:8080/"
        },
        "id": "pz6s4M9dLQCF",
        "outputId": "0c5a8a36-4f15-4a3a-db89-cb52775a4def"
      },
      "outputs": [
        {
          "data": {
            "text/plain": [
              "{'banhmi': 0,\n",
              " 'banhxeo': 1,\n",
              " 'che': 2,\n",
              " 'comtam': 3,\n",
              " 'duasap': 4,\n",
              " 'goicuon': 5,\n",
              " 'miquang': 6,\n",
              " 'pate': 7,\n",
              " 'pho': 8,\n",
              " 'xoi': 9}"
            ]
          },
          "execution_count": 6,
          "metadata": {},
          "output_type": "execute_result"
        }
      ],
      "source": [
        "test_set.class_indices"
      ]
    },
    {
      "cell_type": "code",
      "execution_count": null,
      "metadata": {
        "id": "97BlLN6_LTcA"
      },
      "outputs": [],
      "source": [
        "from keras.preprocessing.image import ImageDataGenerator\n",
        "from keras.models import Sequential\n",
        "from keras.layers import Dense, Flatten, Dropout, Conv2D, MaxPooling2D, Normalization\n",
        "import keras.backend as K\n",
        "from keras.layers import LeakyReLU\n",
        "from keras.callbacks import EarlyStopping\n",
        "from keras.utils import to_categorical\n",
        "from keras.optimizers import Adam"
      ]
    },
    {
      "cell_type": "code",
      "execution_count": null,
      "metadata": {
        "colab": {
          "base_uri": "https://localhost:8080/"
        },
        "id": "dHSQscHOLV-w",
        "outputId": "9a0d5412-5c3d-4390-fc24-476b197a2cc2"
      },
      "outputs": [
        {
          "name": "stdout",
          "output_type": "stream",
          "text": [
            "Model: \"sequential\"\n",
            "_________________________________________________________________\n",
            " Layer (type)                Output Shape              Param #   \n",
            "=================================================================\n",
            " conv2d (Conv2D)             (None, 30, 40, 32)        896       \n",
            "                                                                 \n",
            " conv2d_1 (Conv2D)           (None, 30, 40, 32)        9248      \n",
            "                                                                 \n",
            " leaky_re_lu (LeakyReLU)     (None, 30, 40, 32)        0         \n",
            "                                                                 \n",
            " max_pooling2d (MaxPooling2D  (None, 15, 20, 32)       0         \n",
            " )                                                               \n",
            "                                                                 \n",
            " conv2d_2 (Conv2D)           (None, 15, 20, 64)        18496     \n",
            "                                                                 \n",
            " conv2d_3 (Conv2D)           (None, 15, 20, 64)        36928     \n",
            "                                                                 \n",
            " dropout (Dropout)           (None, 15, 20, 64)        0         \n",
            "                                                                 \n",
            " max_pooling2d_1 (MaxPooling  (None, 8, 10, 64)        0         \n",
            " 2D)                                                             \n",
            "                                                                 \n",
            " conv2d_4 (Conv2D)           (None, 8, 10, 128)        73856     \n",
            "                                                                 \n",
            " conv2d_5 (Conv2D)           (None, 8, 10, 128)        147584    \n",
            "                                                                 \n",
            " leaky_re_lu_1 (LeakyReLU)   (None, 8, 10, 128)        0         \n",
            "                                                                 \n",
            " max_pooling2d_2 (MaxPooling  (None, 4, 5, 128)        0         \n",
            " 2D)                                                             \n",
            "                                                                 \n",
            " flatten (Flatten)           (None, 2560)              0         \n",
            "                                                                 \n",
            " dense (Dense)               (None, 128)               327808    \n",
            "                                                                 \n",
            " leaky_re_lu_2 (LeakyReLU)   (None, 128)               0         \n",
            "                                                                 \n",
            " dense_1 (Dense)             (None, 32)                4128      \n",
            "                                                                 \n",
            " leaky_re_lu_3 (LeakyReLU)   (None, 32)                0         \n",
            "                                                                 \n",
            " dense_2 (Dense)             (None, 10)                330       \n",
            "                                                                 \n",
            "=================================================================\n",
            "Total params: 619,274\n",
            "Trainable params: 619,274\n",
            "Non-trainable params: 0\n",
            "_________________________________________________________________\n"
          ]
        }
      ],
      "source": [
        "# Tạo model\n",
        "model = Sequential()\n",
        "#Thêm lớp chuyển đổi\n",
        "model.add(tf.keras.layers.Conv2D(32,(3,3), activation='relu', input_shape=[30,40,3],padding='same')) #3 kênh màu RGB\n",
        "model.add(tf.keras.layers.Conv2D(32,(3,3), activation='relu',padding='same'))\n",
        "model.add(LeakyReLU(alpha=0.1))\n",
        "#Pooling\n",
        "model.add(MaxPooling2D(pool_size=(2,2) , padding = 'same'))\n",
        "#Tích chập lớp thứ 2\n",
        "model.add(Conv2D(64,(3,3), activation = 'relu',padding='same'))\n",
        "model.add(Conv2D(64,(3,3), activation = 'relu',padding='same'))\n",
        "model.add(Dropout( 0.1))\n",
        "model.add(MaxPooling2D(pool_size=(2,2) , padding = 'same'))\n",
        "\n",
        "model.add(Conv2D(128,(3,3), activation = 'relu',padding='same'))\n",
        "model.add(Conv2D(128,(3,3), activation = 'relu',padding='same'))\n",
        "model.add(LeakyReLU(alpha = 0.2))\n",
        "model.add(MaxPooling2D(pool_size=(2,2) , padding = 'same'))\n",
        "#Làm phẳng\n",
        "model.add(Flatten())\n",
        "  # ANN Layer\n",
        "#Connect\n",
        "model.add(Dense(128, activation='relu'))\n",
        "model.add(LeakyReLU(alpha = 0.2))\n",
        "model.add(Dense(32, activation='relu'))\n",
        "model.add(LeakyReLU(alpha = 0.1))\n",
        "\n",
        "#Output\n",
        "model.add(Dense(10, activation='softmax'))\n",
        "model.summary()"
      ]
    },
    {
      "cell_type": "code",
      "execution_count": null,
      "metadata": {
        "id": "jSg22ED0LZYp"
      },
      "outputs": [],
      "source": [
        "# Thiết lập thông số\n",
        "from keras.optimizers import Adam\n",
        "model.compile( loss = 'categorical_crossentropy', optimizer=Adam(), metrics = ['accuracy'])"
      ]
    },
    {
      "cell_type": "code",
      "execution_count": null,
      "metadata": {
        "colab": {
          "base_uri": "https://localhost:8080/"
        },
        "id": "bfO1yYqKLeKO",
        "outputId": "187eda97-aba9-4517-aa87-c9eac2484875"
      },
      "outputs": [
        {
          "name": "stderr",
          "output_type": "stream",
          "text": [
            "<ipython-input-10-396911b85743>:4: UserWarning: `Model.fit_generator` is deprecated and will be removed in a future version. Please use `Model.fit`, which supports generators.\n",
            "  a = model.fit_generator( training_set, validation_data=test_set, epochs=80, steps_per_epoch=len(training_set),\n"
          ]
        },
        {
          "name": "stdout",
          "output_type": "stream",
          "text": [
            "Epoch 1/80\n",
            "6/6 [==============================] - 50s 8s/step - loss: 2.3165 - accuracy: 0.0824 - val_loss: 2.2955 - val_accuracy: 0.1818\n",
            "Epoch 2/80\n",
            "6/6 [==============================] - 3s 436ms/step - loss: 2.2754 - accuracy: 0.1118 - val_loss: 2.1873 - val_accuracy: 0.1515\n",
            "Epoch 3/80\n",
            "6/6 [==============================] - 4s 600ms/step - loss: 2.1543 - accuracy: 0.1647 - val_loss: 2.0493 - val_accuracy: 0.2121\n",
            "Epoch 4/80\n",
            "6/6 [==============================] - 2s 347ms/step - loss: 2.1208 - accuracy: 0.2118 - val_loss: 2.2111 - val_accuracy: 0.2121\n",
            "Epoch 5/80\n",
            "6/6 [==============================] - 2s 359ms/step - loss: 2.1148 - accuracy: 0.1647 - val_loss: 2.0408 - val_accuracy: 0.1818\n",
            "Epoch 6/80\n",
            "6/6 [==============================] - 2s 357ms/step - loss: 2.0333 - accuracy: 0.2000 - val_loss: 1.9779 - val_accuracy: 0.2121\n",
            "Epoch 7/80\n",
            "6/6 [==============================] - 2s 335ms/step - loss: 1.9423 - accuracy: 0.2118 - val_loss: 2.1817 - val_accuracy: 0.2424\n",
            "Epoch 8/80\n",
            "6/6 [==============================] - 3s 546ms/step - loss: 2.0134 - accuracy: 0.2529 - val_loss: 1.9679 - val_accuracy: 0.2424\n",
            "Epoch 9/80\n",
            "6/6 [==============================] - 2s 352ms/step - loss: 1.8845 - accuracy: 0.3000 - val_loss: 1.7845 - val_accuracy: 0.2727\n",
            "Epoch 10/80\n",
            "6/6 [==============================] - 2s 350ms/step - loss: 1.7098 - accuracy: 0.3176 - val_loss: 1.6934 - val_accuracy: 0.2727\n",
            "Epoch 11/80\n",
            "6/6 [==============================] - 2s 324ms/step - loss: 1.6538 - accuracy: 0.3765 - val_loss: 1.7611 - val_accuracy: 0.3030\n",
            "Epoch 12/80\n",
            "6/6 [==============================] - 2s 328ms/step - loss: 1.6263 - accuracy: 0.3647 - val_loss: 1.6991 - val_accuracy: 0.3939\n",
            "Epoch 13/80\n",
            "6/6 [==============================] - 5s 884ms/step - loss: 1.6240 - accuracy: 0.3824 - val_loss: 1.6631 - val_accuracy: 0.3636\n",
            "Epoch 14/80\n",
            "6/6 [==============================] - 2s 343ms/step - loss: 1.5762 - accuracy: 0.3765 - val_loss: 1.5777 - val_accuracy: 0.3333\n",
            "Epoch 15/80\n",
            "6/6 [==============================] - 2s 321ms/step - loss: 1.5603 - accuracy: 0.3882 - val_loss: 1.7737 - val_accuracy: 0.3636\n",
            "Epoch 16/80\n",
            "6/6 [==============================] - 2s 323ms/step - loss: 1.3767 - accuracy: 0.4882 - val_loss: 1.6990 - val_accuracy: 0.2424\n",
            "Epoch 17/80\n",
            "6/6 [==============================] - 2s 368ms/step - loss: 1.3256 - accuracy: 0.5000 - val_loss: 1.5339 - val_accuracy: 0.3939\n",
            "Epoch 18/80\n",
            "6/6 [==============================] - 2s 345ms/step - loss: 1.1802 - accuracy: 0.5353 - val_loss: 1.7201 - val_accuracy: 0.3636\n",
            "Epoch 19/80\n",
            "6/6 [==============================] - 4s 611ms/step - loss: 1.1326 - accuracy: 0.5882 - val_loss: 1.9268 - val_accuracy: 0.2727\n",
            "Epoch 20/80\n",
            "6/6 [==============================] - 2s 331ms/step - loss: 1.1806 - accuracy: 0.5588 - val_loss: 1.5062 - val_accuracy: 0.4545\n",
            "Epoch 21/80\n",
            "6/6 [==============================] - 2s 350ms/step - loss: 1.0089 - accuracy: 0.6412 - val_loss: 1.6335 - val_accuracy: 0.3636\n",
            "Epoch 22/80\n",
            "6/6 [==============================] - 2s 317ms/step - loss: 0.9234 - accuracy: 0.6294 - val_loss: 1.6540 - val_accuracy: 0.4545\n",
            "Epoch 23/80\n",
            "6/6 [==============================] - 2s 404ms/step - loss: 0.8042 - accuracy: 0.7000 - val_loss: 1.2535 - val_accuracy: 0.6061\n",
            "Epoch 24/80\n",
            "6/6 [==============================] - 4s 592ms/step - loss: 0.7381 - accuracy: 0.7294 - val_loss: 1.2730 - val_accuracy: 0.6061\n",
            "Epoch 25/80\n",
            "6/6 [==============================] - 2s 325ms/step - loss: 0.6026 - accuracy: 0.7824 - val_loss: 1.6361 - val_accuracy: 0.6061\n",
            "Epoch 26/80\n",
            "6/6 [==============================] - 2s 377ms/step - loss: 0.6718 - accuracy: 0.7765 - val_loss: 1.6014 - val_accuracy: 0.6970\n",
            "Epoch 27/80\n",
            "6/6 [==============================] - 2s 362ms/step - loss: 0.6484 - accuracy: 0.7765 - val_loss: 2.2073 - val_accuracy: 0.4545\n",
            "Epoch 28/80\n",
            "6/6 [==============================] - 2s 396ms/step - loss: 1.0480 - accuracy: 0.6824 - val_loss: 1.6125 - val_accuracy: 0.5758\n",
            "Epoch 29/80\n",
            "6/6 [==============================] - 4s 584ms/step - loss: 0.7718 - accuracy: 0.7235 - val_loss: 1.9281 - val_accuracy: 0.4545\n",
            "Epoch 30/80\n",
            "6/6 [==============================] - 2s 322ms/step - loss: 0.5285 - accuracy: 0.8588 - val_loss: 1.8787 - val_accuracy: 0.4848\n",
            "Epoch 31/80\n",
            "6/6 [==============================] - 2s 324ms/step - loss: 0.3822 - accuracy: 0.8824 - val_loss: 2.0285 - val_accuracy: 0.5758\n",
            "Epoch 32/80\n",
            "6/6 [==============================] - 2s 356ms/step - loss: 0.2545 - accuracy: 0.9235 - val_loss: 1.3691 - val_accuracy: 0.5758\n",
            "Epoch 33/80\n",
            "6/6 [==============================] - 2s 407ms/step - loss: 0.1423 - accuracy: 0.9529 - val_loss: 2.3836 - val_accuracy: 0.6364\n",
            "Epoch 34/80\n",
            "6/6 [==============================] - 4s 597ms/step - loss: 0.1004 - accuracy: 0.9706 - val_loss: 1.9717 - val_accuracy: 0.7576\n",
            "Epoch 35/80\n",
            "6/6 [==============================] - 2s 322ms/step - loss: 0.0958 - accuracy: 0.9647 - val_loss: 2.0953 - val_accuracy: 0.6364\n",
            "Epoch 36/80\n",
            "6/6 [==============================] - 2s 352ms/step - loss: 0.2684 - accuracy: 0.9235 - val_loss: 2.6451 - val_accuracy: 0.6667\n",
            "Epoch 37/80\n",
            "6/6 [==============================] - 2s 399ms/step - loss: 0.2638 - accuracy: 0.9176 - val_loss: 3.2325 - val_accuracy: 0.5152\n",
            "Epoch 38/80\n",
            "6/6 [==============================] - 3s 550ms/step - loss: 0.4310 - accuracy: 0.9000 - val_loss: 1.8218 - val_accuracy: 0.6364\n",
            "Epoch 39/80\n",
            "6/6 [==============================] - 2s 388ms/step - loss: 0.1734 - accuracy: 0.9412 - val_loss: 1.1553 - val_accuracy: 0.6970\n",
            "Epoch 40/80\n",
            "6/6 [==============================] - 2s 332ms/step - loss: 0.1120 - accuracy: 0.9941 - val_loss: 1.8974 - val_accuracy: 0.6364\n",
            "Epoch 41/80\n",
            "6/6 [==============================] - 2s 327ms/step - loss: 0.0497 - accuracy: 1.0000 - val_loss: 1.6119 - val_accuracy: 0.5455\n",
            "Epoch 42/80\n",
            "6/6 [==============================] - 2s 352ms/step - loss: 0.0447 - accuracy: 0.9824 - val_loss: 1.3077 - val_accuracy: 0.7879\n",
            "Epoch 43/80\n",
            "6/6 [==============================] - 3s 569ms/step - loss: 0.0139 - accuracy: 1.0000 - val_loss: 2.4362 - val_accuracy: 0.6970\n",
            "Epoch 44/80\n",
            "6/6 [==============================] - 3s 461ms/step - loss: 0.0070 - accuracy: 1.0000 - val_loss: 1.7153 - val_accuracy: 0.7273\n",
            "Epoch 45/80\n",
            "6/6 [==============================] - 2s 323ms/step - loss: 0.0029 - accuracy: 1.0000 - val_loss: 2.4734 - val_accuracy: 0.6667\n",
            "Epoch 46/80\n",
            "6/6 [==============================] - 2s 363ms/step - loss: 0.0019 - accuracy: 1.0000 - val_loss: 2.8880 - val_accuracy: 0.5152\n",
            "Epoch 47/80\n",
            "6/6 [==============================] - 2s 347ms/step - loss: 9.1822e-04 - accuracy: 1.0000 - val_loss: 1.7400 - val_accuracy: 0.6667\n",
            "Epoch 48/80\n",
            "6/6 [==============================] - 2s 345ms/step - loss: 5.8904e-04 - accuracy: 1.0000 - val_loss: 3.2999 - val_accuracy: 0.6061\n",
            "Epoch 49/80\n",
            "6/6 [==============================] - 3s 595ms/step - loss: 4.9535e-04 - accuracy: 1.0000 - val_loss: 3.1408 - val_accuracy: 0.6364\n",
            "Epoch 50/80\n",
            "6/6 [==============================] - 2s 329ms/step - loss: 3.6978e-04 - accuracy: 1.0000 - val_loss: 2.5409 - val_accuracy: 0.6970\n",
            "Epoch 51/80\n",
            "6/6 [==============================] - 2s 348ms/step - loss: 3.1948e-04 - accuracy: 1.0000 - val_loss: 2.5649 - val_accuracy: 0.6667\n",
            "Epoch 52/80\n",
            "6/6 [==============================] - 2s 356ms/step - loss: 2.8589e-04 - accuracy: 1.0000 - val_loss: 4.2399 - val_accuracy: 0.3939\n",
            "Epoch 53/80\n",
            "6/6 [==============================] - 2s 348ms/step - loss: 2.5240e-04 - accuracy: 1.0000 - val_loss: 2.5268 - val_accuracy: 0.6364\n",
            "Epoch 54/80\n",
            "6/6 [==============================] - 4s 579ms/step - loss: 2.3407e-04 - accuracy: 1.0000 - val_loss: 2.9970 - val_accuracy: 0.6970\n",
            "Epoch 55/80\n",
            "6/6 [==============================] - 2s 343ms/step - loss: 2.0748e-04 - accuracy: 1.0000 - val_loss: 2.2371 - val_accuracy: 0.6364\n",
            "Epoch 56/80\n",
            "6/6 [==============================] - 2s 351ms/step - loss: 2.0030e-04 - accuracy: 1.0000 - val_loss: 3.4438 - val_accuracy: 0.6364\n",
            "Epoch 57/80\n",
            "6/6 [==============================] - 2s 359ms/step - loss: 1.7605e-04 - accuracy: 1.0000 - val_loss: 2.5124 - val_accuracy: 0.6970\n",
            "Epoch 58/80\n",
            "6/6 [==============================] - 2s 331ms/step - loss: 1.7063e-04 - accuracy: 1.0000 - val_loss: 2.7721 - val_accuracy: 0.5455\n",
            "Epoch 59/80\n",
            "6/6 [==============================] - 3s 423ms/step - loss: 1.6435e-04 - accuracy: 1.0000 - val_loss: 1.6740 - val_accuracy: 0.7273\n",
            "Epoch 60/80\n",
            "6/6 [==============================] - 4s 587ms/step - loss: 1.5052e-04 - accuracy: 1.0000 - val_loss: 3.7259 - val_accuracy: 0.5152\n",
            "Epoch 61/80\n",
            "6/6 [==============================] - 2s 328ms/step - loss: 1.3945e-04 - accuracy: 1.0000 - val_loss: 4.1119 - val_accuracy: 0.5758\n",
            "Epoch 62/80\n",
            "6/6 [==============================] - 2s 350ms/step - loss: 1.3282e-04 - accuracy: 1.0000 - val_loss: 3.1946 - val_accuracy: 0.5758\n",
            "Epoch 63/80\n",
            "6/6 [==============================] - 2s 335ms/step - loss: 1.2889e-04 - accuracy: 1.0000 - val_loss: 3.2488 - val_accuracy: 0.6364\n",
            "Epoch 64/80\n",
            "6/6 [==============================] - 2s 323ms/step - loss: 1.2537e-04 - accuracy: 1.0000 - val_loss: 2.8546 - val_accuracy: 0.6061\n",
            "Epoch 65/80\n",
            "6/6 [==============================] - 3s 478ms/step - loss: 1.2416e-04 - accuracy: 1.0000 - val_loss: 4.4090 - val_accuracy: 0.5152\n",
            "Epoch 66/80\n",
            "6/6 [==============================] - 2s 388ms/step - loss: 1.2137e-04 - accuracy: 1.0000 - val_loss: 2.3345 - val_accuracy: 0.6364\n",
            "Epoch 67/80\n",
            "6/6 [==============================] - 2s 392ms/step - loss: 1.1178e-04 - accuracy: 1.0000 - val_loss: 3.5278 - val_accuracy: 0.6364\n",
            "Epoch 68/80\n",
            "6/6 [==============================] - 2s 325ms/step - loss: 1.0332e-04 - accuracy: 1.0000 - val_loss: 3.6428 - val_accuracy: 0.6061\n",
            "Epoch 69/80\n",
            "6/6 [==============================] - 2s 358ms/step - loss: 1.0024e-04 - accuracy: 1.0000 - val_loss: 1.6551 - val_accuracy: 0.7576\n",
            "Epoch 70/80\n",
            "6/6 [==============================] - 4s 605ms/step - loss: 9.5099e-05 - accuracy: 1.0000 - val_loss: 1.6042 - val_accuracy: 0.7576\n",
            "Epoch 71/80\n",
            "6/6 [==============================] - 3s 411ms/step - loss: 9.3593e-05 - accuracy: 1.0000 - val_loss: 2.2732 - val_accuracy: 0.6667\n",
            "Epoch 72/80\n",
            "6/6 [==============================] - 2s 327ms/step - loss: 8.8121e-05 - accuracy: 1.0000 - val_loss: 3.0169 - val_accuracy: 0.6364\n",
            "Epoch 73/80\n",
            "6/6 [==============================] - 2s 318ms/step - loss: 8.6377e-05 - accuracy: 1.0000 - val_loss: 2.5219 - val_accuracy: 0.6061\n",
            "Epoch 74/80\n",
            "6/6 [==============================] - 2s 349ms/step - loss: 8.0500e-05 - accuracy: 1.0000 - val_loss: 1.7468 - val_accuracy: 0.8182\n",
            "Epoch 75/80\n",
            "6/6 [==============================] - 4s 595ms/step - loss: 8.5200e-05 - accuracy: 1.0000 - val_loss: 3.1678 - val_accuracy: 0.6061\n",
            "Epoch 76/80\n",
            "6/6 [==============================] - 2s 354ms/step - loss: 8.0523e-05 - accuracy: 1.0000 - val_loss: 4.3456 - val_accuracy: 0.4242\n",
            "Epoch 77/80\n",
            "6/6 [==============================] - 2s 353ms/step - loss: 7.1148e-05 - accuracy: 1.0000 - val_loss: 3.3465 - val_accuracy: 0.6667\n",
            "Epoch 78/80\n",
            "6/6 [==============================] - 2s 403ms/step - loss: 7.2584e-05 - accuracy: 1.0000 - val_loss: 1.8958 - val_accuracy: 0.7576\n",
            "Epoch 79/80\n",
            "6/6 [==============================] - 2s 355ms/step - loss: 7.1484e-05 - accuracy: 1.0000 - val_loss: 3.7863 - val_accuracy: 0.6970\n",
            "Epoch 80/80\n",
            "6/6 [==============================] - 4s 620ms/step - loss: 6.8483e-05 - accuracy: 1.0000 - val_loss: 4.3212 - val_accuracy: 0.6061\n"
          ]
        }
      ],
      "source": [
        "\n",
        "# Huấn luyện\n",
        "# fit the model\n",
        "# Run the cell. It will take some time to execute\n",
        "a = model.fit_generator( training_set, validation_data=test_set, epochs=80, steps_per_epoch=len(training_set), \n",
        "                        validation_steps=len(test_set)\n",
        ")"
      ]
    },
    {
      "cell_type": "code",
      "execution_count": null,
      "metadata": {
        "colab": {
          "base_uri": "https://localhost:8080/"
        },
        "id": "avXRAb3dLg4u",
        "outputId": "968e2d19-1546-4382-fba4-3298ec95146e"
      },
      "outputs": [
        {
          "name": "stdout",
          "output_type": "stream",
          "text": [
            "2/2 [==============================] - 1s 20ms/step - loss: 2.8667 - accuracy: 0.6667\n"
          ]
        },
        {
          "data": {
            "text/plain": [
              "[2.8666787147521973, 0.6666666865348816]"
            ]
          },
          "execution_count": 11,
          "metadata": {},
          "output_type": "execute_result"
        }
      ],
      "source": [
        "model.evaluate(test_set)"
      ]
    },
    {
      "cell_type": "code",
      "execution_count": null,
      "metadata": {
        "colab": {
          "base_uri": "https://localhost:8080/"
        },
        "id": "4cM43fcQMvbK",
        "outputId": "6da0560b-6552-4d45-fa28-31ae4393fb84"
      },
      "outputs": [
        {
          "name": "stderr",
          "output_type": "stream",
          "text": [
            "<ipython-input-12-467eccc537b7>:1: UserWarning: `Model.predict_generator` is deprecated and will be removed in a future version. Please use `Model.predict`, which supports generators.\n",
            "  y_pred = model.predict_generator(test_set)\n"
          ]
        },
        {
          "data": {
            "text/plain": [
              "array([[False, False, False, False,  True, False, False, False, False,\n",
              "        False],\n",
              "       [False, False, False,  True, False, False, False, False, False,\n",
              "        False],\n",
              "       [False, False,  True, False, False, False, False, False, False,\n",
              "        False],\n",
              "       [False, False, False, False,  True, False, False, False, False,\n",
              "        False],\n",
              "       [False, False, False, False, False, False, False, False,  True,\n",
              "        False],\n",
              "       [False, False,  True, False, False, False, False, False, False,\n",
              "        False],\n",
              "       [False,  True, False, False, False, False, False, False, False,\n",
              "        False],\n",
              "       [ True, False, False, False, False, False, False, False, False,\n",
              "        False],\n",
              "       [False, False, False, False, False,  True, False, False, False,\n",
              "        False],\n",
              "       [False, False, False, False, False, False, False, False, False,\n",
              "         True],\n",
              "       [False, False, False, False, False,  True, False, False, False,\n",
              "        False],\n",
              "       [False, False, False, False, False, False, False, False, False,\n",
              "         True],\n",
              "       [ True, False, False, False, False, False, False, False, False,\n",
              "        False],\n",
              "       [False, False, False,  True, False, False, False, False, False,\n",
              "        False],\n",
              "       [False,  True, False, False, False, False, False, False, False,\n",
              "        False],\n",
              "       [False, False, False, False, False,  True, False, False, False,\n",
              "        False],\n",
              "       [ True, False, False, False, False, False, False, False, False,\n",
              "        False],\n",
              "       [False, False,  True, False, False, False, False, False, False,\n",
              "        False],\n",
              "       [False, False, False, False, False, False, False,  True, False,\n",
              "        False],\n",
              "       [False, False, False, False, False, False, False, False, False,\n",
              "         True],\n",
              "       [False, False, False,  True, False, False, False, False, False,\n",
              "        False],\n",
              "       [False, False, False, False, False, False, False,  True, False,\n",
              "        False],\n",
              "       [ True, False, False, False, False, False, False, False, False,\n",
              "        False],\n",
              "       [False, False, False, False, False, False,  True, False, False,\n",
              "        False],\n",
              "       [False, False, False, False, False,  True, False, False, False,\n",
              "        False],\n",
              "       [False, False, False, False,  True, False, False, False, False,\n",
              "        False],\n",
              "       [False, False, False, False, False, False, False,  True, False,\n",
              "        False],\n",
              "       [False, False,  True, False, False, False, False, False, False,\n",
              "        False],\n",
              "       [False, False, False,  True, False, False, False, False, False,\n",
              "        False],\n",
              "       [False, False, False, False, False, False, False, False,  True,\n",
              "        False],\n",
              "       [False, False, False, False, False, False, False, False,  True,\n",
              "        False],\n",
              "       [False, False, False, False, False, False, False, False,  True,\n",
              "        False],\n",
              "       [False, False, False,  True, False, False, False, False, False,\n",
              "        False]])"
            ]
          },
          "execution_count": 12,
          "metadata": {},
          "output_type": "execute_result"
        }
      ],
      "source": [
        "y_pred = model.predict_generator(test_set)\n",
        "y_pred_class = y_pred > 0.5\n",
        "y_pred_class"
      ]
    },
    {
      "cell_type": "code",
      "execution_count": null,
      "metadata": {
        "colab": {
          "base_uri": "https://localhost:8080/",
          "height": 860
        },
        "id": "YddJKAaDMx_M",
        "outputId": "c5b09d9b-d5ac-4439-dae1-54bbfb549ad8"
      },
      "outputs": [
        {
          "data": {
            "image/png": "[encoded data removed]",
            "text/plain": [
              "<Figure size 640x480 with 1 Axes>"
            ]
          },
          "metadata": {},
          "output_type": "display_data"
        },
        {
          "data": {
            "image/png": "[encoded data removed]",
            "text/plain": [
              "<Figure size 640x480 with 1 Axes>"
            ]
          },
          "metadata": {},
          "output_type": "display_data"
        },
        {
          "data": {
            "text/plain": [
              "<Figure size 640x480 with 0 Axes>"
            ]
          },
          "metadata": {},
          "output_type": "display_data"
        }
      ],
      "source": [
        "import matplotlib.pyplot as plt\n",
        "# plot the loss\n",
        "plt.plot(a.history['loss'], label='train loss')\n",
        "plt.plot(a.history['val_loss'], label='val loss')\n",
        "plt.legend()\n",
        "plt.show()\n",
        "plt.savefig('LossVal_loss')\n",
        "\n",
        "# plot the accuracy\n",
        "plt.plot(a.history['accuracy'], label='train acc')\n",
        "plt.plot(a.history['val_accuracy'], label='val acc')\n",
        "plt.legend()\n",
        "plt.show()\n",
        "plt.savefig('AccVal_acc')"
      ]
    },
    {
      "cell_type": "code",
      "execution_count": null,
      "metadata": {
        "id": "sfvI8SPrM2Qo"
      },
      "outputs": [],
      "source": [
        "from tensorflow.keras.models import load_model\n",
        "\n",
        "model.save('/content/drive/MyDrive/10_disk/Valid/model_inception.h5')"
      ]
    },
    {
      "cell_type": "code",
      "execution_count": null,
      "metadata": {
        "colab": {
          "base_uri": "https://localhost:8080/"
        },
        "id": "92OzAu3WM5-i",
        "outputId": "99c5d06b-5c63-4c7f-bda7-e6f3e185502c"
      },
      "outputs": [
        {
          "data": {
            "text/plain": [
              "<keras.engine.sequential.Sequential at 0x7fdcc5e1ce80>"
            ]
          },
          "execution_count": 21,
          "metadata": {},
          "output_type": "execute_result"
        }
      ],
      "source": [
        "\n",
        "from tensorflow.keras.preprocessing import image\n",
        "model=load_model('/content/drive/MyDrive/10_disk/Valid/model_inception.h5')\n",
        "model"
      ]
    },
    {
      "cell_type": "code",
      "execution_count": null,
      "metadata": {
        "id": "xJbKPRu7M-TS"
      },
      "outputs": [],
      "source": [
        "import os\n",
        "os.chdir('/content/drive/MyDrive/10_disk/Valid')"
      ]
    },
    {
      "cell_type": "code",
      "execution_count": null,
      "metadata": {
        "colab": {
          "base_uri": "https://localhost:8080/",
          "height": 448
        },
        "id": "yjA1K8EvNKi6",
        "outputId": "b58f1e78-086a-4ab5-dabf-50e1a168bc8a"
      },
      "outputs": [
        {
          "data": {
            "text/plain": [
              "<matplotlib.image.AxesImage at 0x7fdcc5df7910>"
            ]
          },
          "execution_count": 23,
          "metadata": {},
          "output_type": "execute_result"
        },
        {
          "data": {
            "image/png": "[encoded data removed]",
            "text/plain": [
              "<Figure size 640x480 with 1 Axes>"
            ]
          },
          "metadata": {},
          "output_type": "display_data"
        }
      ],
      "source": [
        "import matplotlib.pyplot as plt\n",
        "from keras.utils import to_categorical, load_img, img_to_array\n",
        "img_data = load_img('/content/drive/MyDrive/10_disk/Valid/pho (18)_11zon.jpg')\n",
        "img_data = img_to_array(img_data)\n",
        "plt.imshow(img_data/255)"
      ]
    },
    {
      "cell_type": "code",
      "execution_count": null,
      "metadata": {
        "colab": {
          "background_save": true,
          "base_uri": "https://localhost:8080/"
        },
        "id": "LlCiU8gwOBI1",
        "outputId": "6537a8fe-9a29-43f4-966d-8cd39f48239d"
      },
      "outputs": [
        {
          "name": "stdout",
          "output_type": "stream",
          "text": [
            "Tên của hình ảnh không tồn tại \n",
            "Tên của hình ảnh không tồn tại \n"
          ]
        }
      ],
      "source": [
        "import numpy as np\n",
        "from keras.preprocessing import image\n",
        "while 1 :\n",
        " ch = input('Chọn' ' image : ')\n",
        " if (ch=='-'):\n",
        "     break\n",
        " else:\n",
        "   try: \n",
        "     test_image = load_img(\"/content/drive/MyDrive/10_disk/Valid/{}.jpg\".format(ch),\n",
        "                             target_size=(30,40)) #Scale\n",
        "     test_image = img_to_array(test_image)\n",
        "     plt.imshow(test_image/255)\n",
        "     test_image = np.expand_dims(test_image,axis=0)\n",
        "     result = model.predict(test_image)\n",
        "     training_set.class_indices\n",
        "     print(result)\n",
        "     x=0\n",
        "     c=0\n",
        "     i=0\n",
        "     while (i<10):\n",
        "       if result[0][i]>=x:\n",
        "         x=result[0][i]\n",
        "         c=i\n",
        "        \n",
        "       i=i+1\n",
        "     if (x==0 and c==9) :\n",
        "         c=10\n",
        "     if c == 0:\n",
        "       prediction = 'Banhmi'\n",
        "     elif c == 1:\n",
        "       prediction = 'Banhxeo'\n",
        "     elif c == 2:\n",
        "       prediction = 'BunboHue'\n",
        "     elif c == 3:\n",
        "       prediction = 'Buncha'\n",
        "     elif c == 4:\n",
        "       prediction = 'Caolau'\n",
        "     elif c==5:\n",
        "       prediction ='Chaca'\n",
        "     elif c == 6:\n",
        "       prediction = 'Comtam'\n",
        "     elif c == 7:\n",
        "       prediction = 'Goicuon'\n",
        "     elif c == 8:\n",
        "       prediction = 'Phobo'\n",
        "     elif c==9:\n",
        "       prediction ='Miquang'\n",
        "           \n",
        "     print(prediction)\n",
        "   except:\n",
        "      print('Tên của hình ảnh không tồn tại '  )"
      ]
    },
    {
      "cell_type": "code",
      "execution_count": null,
      "metadata": {
        "id": "Va6il3vIOSkx"
      },
      "outputs": [],
      "source": []
    }
  ],
  "metadata": {
    "colab": {
      "provenance": [],
      "mount_file_id": "1SqCL-FYr7Wo5z_UqWa2ledqkE15DEn4Q",
      "authorship_tag": "ABX9TyOOHEO0WLN4FdSdE7FZVZls",
      "include_colab_link": true
    },
    "kernelspec": {
      "display_name": "Python 3",
      "name": "python3"
    },
    "language_info": {
      "name": "python"
    }
  },
  "nbformat": 4,
  "nbformat_minor": 0
}