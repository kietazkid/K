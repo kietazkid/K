{
  "nbformat": 4,
  "nbformat_minor": 0,
  "metadata": {
    "colab": {
      "provenance": [],
      "authorship_tag": "ABX9TyNyOOQsR0kU+k0uJzifFNNW",
      "include_colab_link": true
    },
    "kernelspec": {
      "name": "python3",
      "display_name": "Python 3"
    },
    "language_info": {
      "name": "python"
    }
  },
  "cells": [
    {
      "cell_type": "markdown",
      "metadata": {
        "id": "view-in-github",
        "colab_type": "text"
      },
      "source": [
        "<a href=\"https://colab.research.google.com/github/kietazkid/K/blob/main/SearchYutobe.ipynb\" target=\"_parent\"><img src=\"https://colab.research.google.com/assets/colab-badge.svg\" alt=\"Open In Colab\"/></a>"
      ]
    },
    {
      "cell_type": "code",
      "execution_count": 1,
      "metadata": {
        "colab": {
          "base_uri": "https://localhost:8080/"
        },
        "id": "PxswywEF5Dv4",
        "outputId": "acc1e6f4-d1a5-4149-8849-a4cb92f395ca"
      },
      "outputs": [
        {
          "output_type": "stream",
          "name": "stdout",
          "text": [
            "Looking in indexes: https://pypi.org/simple, https://us-python.pkg.dev/colab-wheels/public/simple/\n",
            "Collecting youtube-search\n",
            "  Downloading youtube_search-2.1.2-py3-none-any.whl (3.4 kB)\n",
            "Requirement already satisfied: requests in /usr/local/lib/python3.9/dist-packages (from youtube-search) (2.27.1)\n",
            "Requirement already satisfied: charset-normalizer~=2.0.0 in /usr/local/lib/python3.9/dist-packages (from requests->youtube-search) (2.0.12)\n",
            "Requirement already satisfied: certifi>=2017.4.17 in /usr/local/lib/python3.9/dist-packages (from requests->youtube-search) (2022.12.7)\n",
            "Requirement already satisfied: urllib3<1.27,>=1.21.1 in /usr/local/lib/python3.9/dist-packages (from requests->youtube-search) (1.26.15)\n",
            "Requirement already satisfied: idna<4,>=2.5 in /usr/local/lib/python3.9/dist-packages (from requests->youtube-search) (3.4)\n",
            "Installing collected packages: youtube-search\n",
            "Successfully installed youtube-search-2.1.2\n"
          ]
        }
      ],
      "source": [
        "pip install youtube-search\n"
      ]
    },
    {
      "cell_type": "code",
      "source": [
        "from youtube_search import YoutubeSearch\n",
        "import webbrowser\n",
        "mysong= input('Nhap vao ten bai hat:')\n",
        "result= YoutubeSearch(mysong,max_results=10).to_dict()\n",
        "print(result)\n",
        "\n"
      ],
      "metadata": {
        "colab": {
          "base_uri": "https://localhost:8080/"
        },
        "id": "OQ9T_GmF5Lto",
        "outputId": "cb650390-90e2-4948-d47a-cae39db7dcd9"
      },
      "execution_count": 2,
      "outputs": [
        {
          "output_type": "stream",
          "name": "stdout",
          "text": [
            "Nhap vao ten bai hat:con buom xinh\n",
            "[{'id': '-41E5B85rTI', 'thumbnails': ['https://i.ytimg.com/vi/-41E5B85rTI/hq2.jpg?sqp=-oaymwEjCOADEI4CSFryq4qpAxUIARUAAAAAGAElAADIQj0AgKJDeAE=&rs=AOn4CLCQ4ZGsVSHBEZ1foOCeeYMN0yQi3w'], 'title': 'Spring Butterfly by Ho Quang Hieu | Official MV', 'long_desc': None, 'channel': 'Hồ Quang Hiếu TV', 'duration': '3:59', 'views': '71,387,270 views', 'publish_time': '7 years ago', 'url_suffix': '/watch?v=-41E5B85rTI&pp=ygUNY29uIGJ1b20geGluaA%3D%3D'}, {'id': 'myH0HIZNRiE', 'thumbnails': ['https://i.ytimg.com/vi/myH0HIZNRiE/hq2.jpg?sqp=-oaymwEjCOADEI4CSFryq4qpAxUIARUAAAAAGAElAADIQj0AgKJDeAE=&rs=AOn4CLA_HgUS92ZaewvqzhTuUN-WrtPwiw'], 'title': 'CON BƯỚM XUÂN (REMIX 2022) | HỒ QUANG HIẾU x NGUYỄN ĐÌNH VŨ | NHỊP ĐIỆU CHA CHA CHA 2022', 'long_desc': None, 'channel': 'Nguyễn Đình Vũ Official', 'duration': '3:48', 'views': '5,049,847 views', 'publish_time': '1 year ago', 'url_suffix': '/watch?v=myH0HIZNRiE&pp=ygUNY29uIGJ1b20geGluaA%3D%3D'}, {'id': 'tiGcz2Dzg6c', 'thumbnails': ['https://i.ytimg.com/vi/tiGcz2Dzg6c/hq2.jpg?sqp=-oaymwEjCOADEI4CSFryq4qpAxUIARUAAAAAGAElAADIQj0AgKJDeAE=&rs=AOn4CLBdnYM9768zts6Ps8t7V8DfgEO7Iw'], 'title': 'Nhạc Hải Ngoại Sôi Động 2023 Bốc Lửa | CON BƯỚM XUÂN REMIX | Hoàng Kim Long 2023', 'long_desc': None, 'channel': 'Remix Nhạc Vàng Trữ Tình', 'duration': '1:01:56', 'views': '59,580 views', 'publish_time': '3 months ago', 'url_suffix': '/watch?v=tiGcz2Dzg6c&pp=ygUNY29uIGJ1b20geGluaA%3D%3D'}, {'id': 'xTeBYefFvcs', 'thumbnails': ['https://i.ytimg.com/vi/xTeBYefFvcs/hq2.jpg?sqp=-oaymwEjCOADEI4CSFryq4qpAxUIARUAAAAAGAElAADIQj0AgKJDeAE=&rs=AOn4CLB-u3bnPqublZQO7XPzEccojb2NiA'], 'title': 'Nhạc Hoa Lời Việt | Con Bướm Xuân Cover (中国恰恰 - 王筱涵) | Lê Minh (黎明) & Lê Mỹ Nhàn (黎美嫻) MV | Hagi TV', 'long_desc': None, 'channel': 'HAGI TV', 'duration': '4:36', 'views': '153,775 views', 'publish_time': '11 months ago', 'url_suffix': '/watch?v=xTeBYefFvcs&pp=ygUNY29uIGJ1b20geGluaA%3D%3D'}, {'id': 'LGHi1Y_Pnq8', 'thumbnails': ['https://i.ytimg.com/vi/LGHi1Y_Pnq8/hq2.jpg?sqp=-oaymwEjCOADEI4CSFryq4qpAxUIARUAAAAAGAElAADIQj0AgKJDeAE=&rs=AOn4CLB21u2vOFuft6wwMb-1ZCs7Ec67MA'], 'title': 'CON BƯỚM XINH - Bé 6 Tuổi Hát Cực Sung Khán Giả Vỗ Tay Không Ngớt Bé Tú Anh', 'long_desc': None, 'channel': 'Kênh Thiếu Nhi - BHMEDIA', 'duration': '3:39', 'views': '4,654,620 views', 'publish_time': '4 years ago', 'url_suffix': '/watch?v=LGHi1Y_Pnq8&pp=ygUNY29uIGJ1b20geGluaA%3D%3D'}, {'id': 'Lp19KcM8CFc', 'thumbnails': ['https://i.ytimg.com/vi/Lp19KcM8CFc/hq2.jpg?sqp=-oaymwEjCOADEI4CSFryq4qpAxUIARUAAAAAGAElAADIQj0AgKJDeAE=&rs=AOn4CLDiXzUELmhJdVWkK4I_k1mTbTzODg'], 'title': 'LK Con Bướm Xuân , Xuân Đã Về - Nhạc Xuân 2021 Remix Sôi Động Hay Nhất Nghe Cực Mạnh', 'long_desc': None, 'channel': 'Asia Entertainment Official', 'duration': '38:01', 'views': '107,535 views', 'publish_time': '3 years ago', 'url_suffix': '/watch?v=Lp19KcM8CFc&pp=ygUNY29uIGJ1b20geGluaA%3D%3D'}, {'id': 'izEI6T205rY', 'thumbnails': ['https://i.ytimg.com/vi/izEI6T205rY/hq2.jpg?sqp=-oaymwEjCOADEI4CSFryq4qpAxUIARUAAAAAGAElAADIQj0AgKJDeAE=&rs=AOn4CLDbIv4WBY7YO3DhGbe7ZgQTe-qDvQ'], 'title': 'CON BƯỚM XUÂN (REMIX 2022) | NGUYỄN ĐÌNH VŨ x HỒ QUANG HIẾU | LIVE', 'long_desc': None, 'channel': 'Nguyễn Đình Vũ Official', 'duration': '3:52', 'views': '2,962,393 views', 'publish_time': '1 year ago', 'url_suffix': '/watch?v=izEI6T205rY&pp=ygUNY29uIGJ1b20geGluaA%3D%3D'}, {'id': 'OQlCOaO0UF0', 'thumbnails': ['https://i.ytimg.com/vi/OQlCOaO0UF0/hq2.jpg?sqp=-oaymwEjCOADEI4CSFryq4qpAxUIARUAAAAAGAElAADIQj0AgKJDeAE=&rs=AOn4CLATw36DZ64kUffL3EX0o3TqvFxuPQ'], 'title': 'Official MV Con Bướm Xinh - Chu Bin', 'long_desc': None, 'channel': 'SKY MEDIA GROUP', 'duration': '5:51', 'views': '1,788,125 views', 'publish_time': '9 years ago', 'url_suffix': '/watch?v=OQlCOaO0UF0&pp=ygUNY29uIGJ1b20geGluaA%3D%3D'}, {'id': 'WQlvBOVruDY', 'thumbnails': ['https://i.ytimg.com/vi/WQlvBOVruDY/hq2.jpg?sqp=-oaymwEjCOADEI4CSFryq4qpAxUIARUAAAAAGAElAADIQj0AgKJDeAE=&rs=AOn4CLC_p53a4qRL092WqkFlERLfgH6hLQ'], 'title': 'Kìa con bướm vàng, Chị ong nâu nâu, Nhạc thiếu nhi remix', 'long_desc': None, 'channel': 'Hướng Dương TV', 'duration': '8:35', 'views': '3,260,890 views', 'publish_time': '2 years ago', 'url_suffix': '/watch?v=WQlvBOVruDY&pp=ygUNY29uIGJ1b20geGluaA%3D%3D'}, {'id': 'lFKd17xFcK4', 'thumbnails': ['https://i.ytimg.com/vi/lFKd17xFcK4/hq2.jpg?sqp=-oaymwE9COADEI4CSFryq4qpAy8IARUAAAAAGAElAADIQj0AgKJDeAHwAQH4Af4JgALQBYoCDAgAEAEYZSBEKFgwDw==&rs=AOn4CLBwwhX6Et3lzrKGZ9AbBQqhhnKz7Q'], 'title': 'Con Bướm Xuân - H2K「Cukak Remix」/ Audio Lyrics Video', 'long_desc': None, 'channel': 'Cukak', 'duration': '3:16', 'views': '4,529,610 views', 'publish_time': '1 year ago', 'url_suffix': '/watch?v=lFKd17xFcK4&pp=ygUNY29uIGJ1b20geGluaA%3D%3D'}]\n"
          ]
        }
      ]
    },
    {
      "cell_type": "code",
      "source": [
        "print(result[0][\"url_suffix\"])\n",
        "url='http://www.yotube.com'+result[0]['url_suffix']\n",
        "print(url)\n",
        "webbrowser.open(url)\n",
        "                                  "
      ],
      "metadata": {
        "colab": {
          "base_uri": "https://localhost:8080/"
        },
        "id": "pb2_bjal7Udp",
        "outputId": "bb039264-4e40-4351-d1d5-12d4d1803710"
      },
      "execution_count": 3,
      "outputs": [
        {
          "output_type": "stream",
          "name": "stdout",
          "text": [
            "/watch?v=-41E5B85rTI&pp=ygUNY29uIGJ1b20geGluaA%3D%3D\n",
            "http://www.yotube.com/watch?v=-41E5B85rTI&pp=ygUNY29uIGJ1b20geGluaA%3D%3D\n"
          ]
        },
        {
          "output_type": "execute_result",
          "data": {
            "text/plain": [
              "False"
            ]
          },
          "metadata": {},
          "execution_count": 3
        }
      ]
    },
    {
      "cell_type": "code",
      "source": [
        "pip install openpyxl"
      ],
      "metadata": {
        "colab": {
          "base_uri": "https://localhost:8080/"
        },
        "id": "14GOG-XT8ppV",
        "outputId": "d5cf71e6-6cac-49a2-e9b4-36c9e7c78f46"
      },
      "execution_count": 4,
      "outputs": [
        {
          "output_type": "stream",
          "name": "stdout",
          "text": [
            "Looking in indexes: https://pypi.org/simple, https://us-python.pkg.dev/colab-wheels/public/simple/\n",
            "Requirement already satisfied: openpyxl in /usr/local/lib/python3.9/dist-packages (3.0.10)\n",
            "Requirement already satisfied: et-xmlfile in /usr/local/lib/python3.9/dist-packages (from openpyxl) (1.1.0)\n"
          ]
        }
      ]
    },
    {
      "cell_type": "code",
      "source": [
        "from openpyxl import Workbook\n",
        "from youtube_search import YoutubeSearch\n",
        "import webbrowser\n",
        "data=Workbook()\n",
        "sheet=data.active\n",
        "mysong=input('xin moi ban chon bai hat:')\n",
        "result= YoutubeSearch(mysong,max_results=10).to_dict()\n",
        "for i in range(10):\n",
        "  print(result[i][\"title\"])\n",
        "  print(result[i]['url_suffix'])\n",
        "  url='http://www.youtube.com'+ result[0]['url_suffix']\n",
        "  print(url)\n",
        "  sheet['A'+ str(i+1)]=i+1\n",
        "  sheet['B'+ str(i+1)]=result[i]['title']\n",
        "  sheet['C'+ str(i+1)]=result[i]['url_suffix']\n",
        "  sheet['D'+ str(i+1)]=result[i]['views']\n",
        "\n",
        "\n",
        "\n"
      ],
      "metadata": {
        "colab": {
          "base_uri": "https://localhost:8080/"
        },
        "id": "fQrF4ahk88R1",
        "outputId": "3500e662-0e05-400b-8eed-3b1922c25611"
      },
      "execution_count": 16,
      "outputs": [
        {
          "output_type": "stream",
          "name": "stdout",
          "text": [
            "xin moi ban chon bai hat:fly away\n",
            "Lenny Kravitz - Fly Away\n",
            "/watch?v=EvuL5jyCHOw&pp=ygUIZmx5IGF3YXk%3D\n",
            "http://www.youtube.com/watch?v=EvuL5jyCHOw&pp=ygUIZmx5IGF3YXk%3D\n",
            "TONES AND I - FLY AWAY (OFFICIAL VIDEO)\n",
            "/watch?v=R0vu5QfsD5E&pp=ygUIZmx5IGF3YXk%3D\n",
            "http://www.youtube.com/watch?v=EvuL5jyCHOw&pp=ygUIZmx5IGF3YXk%3D\n",
            "TheFatRat - Fly Away (Lyrics) feat. Anjulie\n",
            "/watch?v=ubgFZnja_HE&pp=ygUIZmx5IGF3YXk%3D\n",
            "http://www.youtube.com/watch?v=EvuL5jyCHOw&pp=ygUIZmx5IGF3YXk%3D\n",
            "TheFatRat - Fly Away feat. Anjulie\n",
            "/watch?v=cMg8KaMdDYo&pp=ygUIZmx5IGF3YXk%3D\n",
            "http://www.youtube.com/watch?v=EvuL5jyCHOw&pp=ygUIZmx5IGF3YXk%3D\n",
            "“Alex and the Dragon” [VERSION A] Minecraft Animation Music Video (\"Fly Away\" Song by TheFatRat)\n",
            "/watch?v=GQa-ESnI9ZI&pp=ygUIZmx5IGF3YXk%3D\n",
            "http://www.youtube.com/watch?v=EvuL5jyCHOw&pp=ygUIZmx5IGF3YXk%3D\n",
            "Tones And I - Fly Away (Lyrics)\n",
            "/watch?v=l3dMkpzRChw&pp=ygUIZmx5IGF3YXk%3D\n",
            "http://www.youtube.com/watch?v=EvuL5jyCHOw&pp=ygUIZmx5IGF3YXk%3D\n",
            "\"Fly Away\" - Lenny Kravitz\n",
            "/watch?v=cJMeTmdfNWk&pp=ygUIZmx5IGF3YXk%3D\n",
            "http://www.youtube.com/watch?v=EvuL5jyCHOw&pp=ygUIZmx5IGF3YXk%3D\n",
            "Fatboy SSE - Fly Away (Official Video)\n",
            "/watch?v=eE3tn7bWXX8&pp=ygUIZmx5IGF3YXk%3D\n",
            "http://www.youtube.com/watch?v=EvuL5jyCHOw&pp=ygUIZmx5IGF3YXk%3D\n",
            "14 Dreamz - Fly away (FT 14YNG (Official audio)\n",
            "/watch?v=nWOXEtLus2M&pp=ygUIZmx5IGF3YXk%3D\n",
            "http://www.youtube.com/watch?v=EvuL5jyCHOw&pp=ygUIZmx5IGF3YXk%3D\n",
            "GLORYHAMMER - Fly Away (Official Video) | Napalm Records\n",
            "/watch?v=cJ5XN2P4oCI&pp=ygUIZmx5IGF3YXk%3D\n",
            "http://www.youtube.com/watch?v=EvuL5jyCHOw&pp=ygUIZmx5IGF3YXk%3D\n"
          ]
        }
      ]
    },
    {
      "cell_type": "code",
      "source": [],
      "metadata": {
        "id": "1SoDzp0zAZC0"
      },
      "execution_count": null,
      "outputs": []
    }
  ]
}